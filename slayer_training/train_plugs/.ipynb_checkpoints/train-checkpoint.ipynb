{
 "cells": [
  {
   "cell_type": "markdown",
   "id": "8e62b37e-35dc-45b2-a025-31cf9ee971c5",
   "metadata": {},
   "source": [
    "# DVS Gesture Classification\n",
    "\n",
    "__DVSGesture__ is a dataset for benchmarking event-based gestzure recognition. The data samples were collected with a DVS128 camera. 29 persons performed the same 10 gestures and one individual gesture per person under varied light conditions.\n",
    "\n",
    "The task is to classify each event sequence to it's corresponding gesture.\n",
    "\n",
    "<table>\n",
    "<tr>\n",
    "    <td> <img src=\"gifs/input0.gif\" alt=\"Drawing\" style=\"height: 250px;\"/> </td>\n",
    "    <td> <img src=\"gifs/input1.gif\" alt=\"Drawing\" style=\"height: 250px;\"/> </td>\n",
    "    <td> <img src=\"gifs/input2.gif\" alt=\"Drawing\" style=\"height: 250px;\"/> </td>\n",
    "    <td> <img src=\"gifs/input3.gif\" alt=\"Drawing\" style=\"height: 250px;\"/> </td>\n",
    "    <td> <img src=\"gifs/input4.gif\" alt=\"Drawing\" style=\"height: 250px;\"/> </td>\n",
    "</tr>\n",
    "</table>\n",
    "\n",
    "DVS gesture dataset is freely available [here](https://research.ibm.com/interactive/dvsgesture/) (© CC-4.0).\n",
    "\n",
    "> A. Amir, B. Taba, D. Berg, T. Melano, J. McKinstry, C. Di Nolfo, T. Nayak, A. Andreopoulos, G. Garreau, M. Mendoza, J. Kusnitz, M. Debole, S. Esser, T. Delbruck, M. Flickner, and D. Modha, \"A Low Power, Fully Event-Based Gesture Recognition System,\" 2017 IEEE Conference on Computer Vision and Pattern Recognition (CVPR), Honolulu, HI, 2017. \n",
    "\n",
    "This script is intended for both training and testing with visualization."
   ]
  },
  {
   "cell_type": "code",
   "execution_count": 1,
   "id": "afc7d708-0431-4b60-91f0-9b30edbedac0",
   "metadata": {},
   "outputs": [
    {
     "name": "stdout",
     "output_type": "stream",
     "text": [
      "No CUDA runtime is found, using CUDA_HOME='/usr/local/cuda'\n"
     ]
    }
   ],
   "source": [
    "import os, sys\n",
    "import glob\n",
    "import zipfile\n",
    "import h5py\n",
    "import numpy as np\n",
    "import matplotlib.pyplot as plt\n",
    "import torch\n",
    "import torch.nn as nn\n",
    "from torch.utils.data import Dataset, DataLoader\n",
    "\n",
    "# import slayer from lava-dl\n",
    "import lava.lib.dl.slayer as slayer\n",
    "\n",
    "import IPython.display as display\n",
    "from IPython.display import Image\n",
    "from matplotlib import animation"
   ]
  },
  {
   "cell_type": "markdown",
   "id": "670955ec-b45f-4ce5-a0aa-acce71a07370",
   "metadata": {},
   "source": [
    "# Create Dataset\n",
    "\n",
    "The dataset class follows standard torch dataset definition. They are defined in `dvs_gesture.py`. We will just import the dataset and augmentation routine here."
   ]
  },
  {
   "cell_type": "code",
   "execution_count": 2,
   "id": "36ceee15-929a-43e4-a63e-57772019c1c4",
   "metadata": {},
   "outputs": [],
   "source": [
    "from dvs_gesture import augment, DVSGestureDataset\n",
    "from optimizer import Nadam"
   ]
  },
  {
   "cell_type": "markdown",
   "id": "5ba82b01",
   "metadata": {},
   "source": [
    "The raw event files are first converted to binary (bs2) or numpy-files. Therefore `prepare_dvs_gesture.py` can be used."
   ]
  },
  {
   "cell_type": "code",
   "execution_count": 3,
   "id": "afb4b48f",
   "metadata": {},
   "outputs": [],
   "source": [
    "dataset_path = '/home/neumeier/Documents/masterthesis/datasets/DVS_Gesture/dvs_gesture_bs2'\n",
    "#dataset_path = '/home/neumeier/Documents/masterthesis/datasets/DVS_Gesture/dvs_gesture_npy'"
   ]
  },
  {
   "cell_type": "code",
   "execution_count": 4,
   "id": "48fa1acd",
   "metadata": {},
   "outputs": [],
   "source": [
    "action_name = [\n",
    "    'hand_clapping',\n",
    "    'right_hand_wave',\n",
    "    'left_hand_wave',\n",
    "    'right_arm_clockwise',\n",
    "    'right_arm_counter_clockwise',\n",
    "    'left_arm_clockwise', \n",
    "    'left_arm_counter_clockwise',\n",
    "    'arm_roll',\n",
    "    'air_drums',\n",
    "    'air_guitar',\n",
    "    'other_gestures',\n",
    "]"
   ]
  },
  {
   "cell_type": "markdown",
   "id": "7617ab25-f112-42c6-8bdd-28d0ded7ffb1",
   "metadata": {},
   "source": [
    "# Instantiate DataSet and DataLoader\n"
   ]
  },
  {
   "cell_type": "code",
   "execution_count": 5,
   "id": "47d40cfa-7c30-4192-910c-1b5a90e08c8e",
   "metadata": {
    "tags": []
   },
   "outputs": [],
   "source": [
    "training_set = DVSGestureDataset(path=dataset_path, train=True, transform=augment)\n",
    "testing_set  = DVSGestureDataset(path=dataset_path, train=False)\n",
    "\n",
    "train_loader = DataLoader(dataset=training_set, batch_size=8, shuffle=True)\n",
    "test_loader  = DataLoader(dataset=testing_set , batch_size=8, shuffle=True)"
   ]
  },
  {
   "cell_type": "markdown",
   "id": "87f1551e-ce69-46ef-b1bc-d73be3c97794",
   "metadata": {},
   "source": [
    "# Visualize the input data\n",
    "\n",
    "A random selection of gestures shall be visualized. Therefore `Event.anim()`is exported as gif. The gifs are then loaded into the notebook."
   ]
  },
  {
   "cell_type": "code",
   "execution_count": 6,
   "id": "be0b1c3b-77ec-4d8d-9fb3-22ae2b6dd742",
   "metadata": {},
   "outputs": [
    {
     "name": "stdout",
     "output_type": "stream",
     "text": [
      "hand_clapping\n",
      "right_hand_wave\n",
      "left_hand_wave\n",
      "right_arm_clockwise\n",
      "right_arm_counter_clockwise\n"
     ]
    }
   ],
   "source": [
    "for i in range(5):\n",
    "    spike_tensor, label = testing_set[np.random.randint(len(testing_set))]\n",
    "    #spike_tensor, label = training_set[i]\n",
    "    spike_tensor = spike_tensor.reshape(2, 128, 128, -1)\n",
    "    event = slayer.io.tensor_to_event(spike_tensor.cpu().data.numpy())\n",
    "    anim = event.anim(plt.figure(figsize=(5, 5)), frame_rate=24)\n",
    "    anim.save(f'gifs/input{i}.gif', animation.PillowWriter(fps=24), dpi=300)\n",
    "    print(action_name[label])"
   ]
  },
  {
   "cell_type": "code",
   "execution_count": 7,
   "id": "89122bc4-6441-4963-bb43-2313432f0530",
   "metadata": {},
   "outputs": [
    {
     "data": {
      "text/html": [
       "<table><tr><td> <img src=\"gifs/input0.gif\" alt=\"Drawing\" style=\"height: 250px;\"/> </td> <td> <img src=\"gifs/input1.gif\" alt=\"Drawing\" style=\"height: 250px;\"/> </td> <td> <img src=\"gifs/input2.gif\" alt=\"Drawing\" style=\"height: 250px;\"/> </td> <td> <img src=\"gifs/input3.gif\" alt=\"Drawing\" style=\"height: 250px;\"/> </td> <td> <img src=\"gifs/input4.gif\" alt=\"Drawing\" style=\"height: 250px;\"/> </td></tr></table>"
      ],
      "text/plain": [
       "<IPython.core.display.HTML object>"
      ]
     },
     "execution_count": 7,
     "metadata": {},
     "output_type": "execute_result"
    }
   ],
   "source": [
    "gif_td = lambda gif: f'<td> <img src=\"{gif}\" alt=\"Drawing\" style=\"height: 250px;\"/> </td>'\n",
    "header = '<table><tr>'\n",
    "images = ' '.join([gif_td(f'gifs/input{i}.gif') for i in range(5)])\n",
    "footer = '</tr></table>'\n",
    "display.HTML(header + images + footer)"
   ]
  },
  {
   "cell_type": "markdown",
   "id": "1ea0e1be",
   "metadata": {},
   "source": [
    "# Create Network\n",
    "\n",
    "A slayer network definition follows standard PyTorch way using `torch.nn.Module`.\n",
    "\n",
    "The network can be described with a combination of individual `synapse`, `dendrite`, `neuron` and `axon` components. For rapid and easy development, slayer provides __block interface__ - `slayer.block` - which bundles all these individual components into a single unit. These blocks can be cascaded to build a network easily. The block interface provides additional utilities for normalization (weight and neuron), dropout, gradient monitoring and network export.\n",
    "\n",
    "In the example below, `slayer.block.cuba` is illustrated.\n",
    "\n",
    "The spiking neural network architecture consists of 7 layers (3 pooling, 2 convolutional and 2 dense) and is taken from [here](https://arxiv.org/pdf/2008.01151.pdf)\n",
    "\n",
    "> K. Stewart, G. Orchard, S. B. Shrestha and E. Neftci, \"Online Few-Shot Gesture Learning on a Neuromorphic Processor,\" IEEE Journal on Emerging and Selected Topics in Circuits and Systems, vol. 10, no. 4, pp. 512-521, Dec. 2020, doi: 10.1109/JETCAS.2020.3032058."
   ]
  },
  {
   "cell_type": "code",
   "execution_count": 5,
   "id": "70ec38d2",
   "metadata": {},
   "outputs": [],
   "source": [
    "class Network(torch.nn.Module):\n",
    "    def __init__(self):\n",
    "        super(Network, self).__init__()\n",
    "\n",
    "        neuron_params = {\n",
    "                'threshold'     : 1.25,\n",
    "                'current_decay' : 0.25,\n",
    "                'voltage_decay' : 0.03,\n",
    "                'tau_grad'      : 0.03,\n",
    "                'scale_grad'    : 3,\n",
    "                'requires_grad' : False,     \n",
    "            }\n",
    "        neuron_params_drop = {**neuron_params, 'dropout' : slayer.neuron.Dropout(p=0.05),}\n",
    "        #neuron_params_drop = {**neuron_params}\n",
    "        \n",
    "        self.blocks = torch.nn.ModuleList([\n",
    "                #slayer.block.cuba.Input(neuron_params=neuron_params_drop),\n",
    "                slayer.block.cuba.Pool(neuron_params=neuron_params_drop, kernel_size=4, stride=4),\n",
    "                slayer.block.cuba.Conv(neuron_params=neuron_params_drop, in_features=2, out_features=16, \n",
    "                                       kernel_size=5, padding=2, weight_norm=True, delay=True),\n",
    "                slayer.block.cuba.Pool(neuron_params=neuron_params_drop, kernel_size=2, stride=2),\n",
    "                slayer.block.cuba.Conv(neuron_params=neuron_params_drop, in_features=16, out_features=32, \n",
    "                                       kernel_size=3, padding=1, weight_norm=True, delay=True),\n",
    "                slayer.block.cuba.Pool(neuron_params=neuron_params_drop, kernel_size=2, stride=2),\n",
    "                slayer.block.cuba.Flatten(),\n",
    "                slayer.block.cuba.Dense(neuron_params=neuron_params_drop, in_neurons=(8*8*32), out_neurons=512, \n",
    "                                        weight_norm=True, delay=True),\n",
    "                slayer.block.cuba.Dense(neuron_params=neuron_params_drop, in_neurons=512, out_neurons=11, \n",
    "                                        weight_norm=True),\n",
    "            ])\n",
    "    \n",
    "    def forward(self, spike):\n",
    "        for block in self.blocks:\n",
    "            spike = block(spike)\n",
    "        return spike\n",
    "    \n",
    "    def grad_flow(self, path):\n",
    "        # helps monitor the gradient flow\n",
    "        grad = [b.synapse.grad_norm for b in self.blocks if hasattr(b, 'synapse')]\n",
    "\n",
    "        plt.figure()\n",
    "        plt.semilogy(grad)\n",
    "        plt.savefig(path + 'gradFlow.png')\n",
    "        plt.close()\n",
    "\n",
    "        return grad\n",
    "\n",
    "    def export_hdf5(self, filename, add_input_layer=False, input_dims=[2, 128, 128]):\n",
    "        # network export to hdf5 format\n",
    "        h = h5py.File(filename, 'w')\n",
    "        layer = h.create_group('layer')\n",
    "        if add_input_layer:\n",
    "            input_layer = layer.create_group(f'{0}')\n",
    "            input_layer.create_dataset('shape', data=np.array(input_dims))\n",
    "            input_layer.create_dataset('type', (1, ), 'S10', ['input'.encode('ascii', 'ignore')])\n",
    "        for i, b in enumerate(self.blocks):\n",
    "            if add_input_layer:\n",
    "                b.export_hdf5(layer.create_group(f'{i+1}'))\n",
    "            else:\n",
    "                b.export_hdf5(layer.create_group(f'{i}'))\n",
    "        # add simulation key for nxsdk\n",
    "        sim = h.create_group('simulation')\n",
    "        sim.create_dataset('Ts', data=1)\n",
    "        sim.create_dataset('tSample', data=1500)"
   ]
  },
  {
   "cell_type": "markdown",
   "id": "9031cca0",
   "metadata": {},
   "source": [
    "# Training Folder"
   ]
  },
  {
   "cell_type": "code",
   "execution_count": 6,
   "id": "602684f2",
   "metadata": {},
   "outputs": [],
   "source": [
    "trained_folder = 'Trained'\n",
    "os.makedirs(trained_folder, exist_ok=True)"
   ]
  },
  {
   "cell_type": "markdown",
   "id": "a55f2c74",
   "metadata": {},
   "source": [
    "# Instantiate Network\n",
    "\n",
    "Select training device by uncommenting your preferred option"
   ]
  },
  {
   "cell_type": "markdown",
   "id": "a04b2fb9",
   "metadata": {},
   "source": [
    "* CPU"
   ]
  },
  {
   "cell_type": "code",
   "execution_count": null,
   "id": "4be74585",
   "metadata": {},
   "outputs": [],
   "source": [
    "#device = torch.device('cpu')"
   ]
  },
  {
   "cell_type": "markdown",
   "id": "0fcfe093",
   "metadata": {},
   "source": [
    "* Single GPU"
   ]
  },
  {
   "cell_type": "code",
   "execution_count": 7,
   "id": "52a11d28",
   "metadata": {},
   "outputs": [],
   "source": [
    "device = torch.device('cuda') \n",
    "net = Network().to(device)"
   ]
  },
  {
   "cell_type": "markdown",
   "id": "5bf8a4de",
   "metadata": {},
   "source": [
    "* Multiple GPUs"
   ]
  },
  {
   "cell_type": "code",
   "execution_count": null,
   "id": "5a1886e1",
   "metadata": {},
   "outputs": [],
   "source": [
    "# two GPUs in parallel\n",
    "#print(torch.cuda.device_count())\n",
    "#net = Network().to(device)\n",
    "#net.forward(torch.rand(1, 2, 128, 128, 1).to(device))\n",
    "#net = nn.DataParallel(net, device_ids=[0, 1])"
   ]
  },
  {
   "cell_type": "markdown",
   "id": "63d9eb71",
   "metadata": {},
   "source": [
    "# Optimizer\n",
    "\n",
    "Optimizer Adam or Nadam (not in pytorch 1.8.1, thus implementation as in slayer-pytorch) "
   ]
  },
  {
   "cell_type": "code",
   "execution_count": 8,
   "id": "8c9a71b1",
   "metadata": {},
   "outputs": [],
   "source": [
    "optimizer = torch.optim.Adam(net.parameters(), lr=0.003)\n",
    "#optimizer = Nadam(net.parameters(), lr=0.003) # from slayer pytorch"
   ]
  },
  {
   "cell_type": "markdown",
   "id": "d5a3fc61-6560-40fa-a222-5c051dc2ede7",
   "metadata": {},
   "source": [
    "# Error module\n",
    "\n",
    "Slayer provides prebuilt loss modules: `slayer.loss.{SpikeTime, SpikeRate, SpikeMax}`.\n",
    "* `SpikeTime`: precise spike time based loss when target spike train is known.\n",
    "* `SpikeRate`: spike rate based loss when desired rate of the output neuron is known.\n",
    "* `SpikeMax`: negative log likelihood losses for classification without any rate tuning.\n",
    "\n",
    "Since the target spike train is not known for this problem, we use `SpikeRate` loss and target high spiking rate for true class and low spiking rate for false class."
   ]
  },
  {
   "cell_type": "code",
   "execution_count": 9,
   "id": "3c4b9b92-925a-4da8-b146-923dc4b6ad5f",
   "metadata": {},
   "outputs": [],
   "source": [
    "error = slayer.loss.SpikeRate(true_rate=0.2, false_rate=0.03, reduction='sum').to(device)"
   ]
  },
  {
   "cell_type": "markdown",
   "id": "6cb1c953-78e7-47b7-9ce5-ab747ec23eb6",
   "metadata": {},
   "source": [
    "# Stats and Assistants\n",
    "\n",
    "Slayer provides `slayer.utils.LearningStats` as a simple learning statistics logger for training, validation and testing.\n",
    "\n",
    "In addtion, `slayer.utils.Assistant` module wraps common training validation and testing routine which help simplify the training routine."
   ]
  },
  {
   "cell_type": "code",
   "execution_count": 10,
   "id": "473884dd-d2fa-4e6a-b44d-6a1c303dc950",
   "metadata": {},
   "outputs": [],
   "source": [
    "stats = slayer.utils.LearningStats()\n",
    "assistant = slayer.utils.Assistant(net, error, optimizer, stats, classifier=slayer.classifier.Rate.predict)"
   ]
  },
  {
   "cell_type": "markdown",
   "id": "05eb7069-d384-4368-8235-f5b782c5eeae",
   "metadata": {},
   "source": [
    "# Training Loop\n",
    "\n",
    "Training loop mainly consists of looping over epochs and calling `assistant.train` and `assistant.test` utilities over training and testing dataset. The `assistant` utility takes care of statndard backpropagation procedure internally.\n",
    "\n",
    "* `stats` can be used in print statement to get formatted stats printout.\n",
    "* `stats.testing.best_accuracy` can be used to find out if the current iteration has the best testing accuracy. Here, we use it to save the best model.\n",
    "* `stats.update()` updates the stats collected for the epoch.\n",
    "* `stats.save` saves the stats in files."
   ]
  },
  {
   "cell_type": "code",
   "execution_count": null,
   "id": "dbcbc25a-41bb-49f0-bdb7-26be901626c9",
   "metadata": {},
   "outputs": [],
   "source": [
    "epochs = 500\n",
    "\n",
    "for epoch in range(epochs):\n",
    "    for i, (input, label) in enumerate(train_loader): # training loop\n",
    "        output = assistant.train(input, label)\n",
    "    print(f'\\r[Epoch {epoch:2d}/{epochs}] {stats}', end='')\n",
    "        \n",
    "    for i, (input, label) in enumerate(test_loader): # testing loop\n",
    "        output = assistant.test(input, label)\n",
    "    print(f'\\r[Epoch {epoch:2d}/{epochs}] {stats}', end='')\n",
    "        \n",
    "    if epoch%20 == 19: # cleanup display\n",
    "        print('\\r', ' '*len(f'\\r[Epoch {epoch:2d}/{epochs}] {stats}'))\n",
    "        stats_str = str(stats).replace(\"| \", \"\\n\")\n",
    "        print(f'[Epoch {epoch:2d}/{epochs}]\\n{stats_str}')\n",
    "    \n",
    "    if stats.testing.best_accuracy:\n",
    "        torch.save(net.state_dict(), trained_folder + '/network.pt')\n",
    "    stats.update()\n",
    "    stats.save(trained_folder + '/')\n",
    "    net.grad_flow(trained_folder + '/')"
   ]
  },
  {
   "cell_type": "markdown",
   "id": "854daacd-5ea4-46fd-befd-b0918b26bda3",
   "metadata": {},
   "source": [
    "# Plot the learning curves\n",
    "\n",
    "Plotting the learning curves is as easy as calling `stats.plot()`."
   ]
  },
  {
   "cell_type": "code",
   "execution_count": 2,
   "id": "be59928f-4da2-4055-8802-71216003bf0c",
   "metadata": {},
   "outputs": [
    {
     "data": {
      "image/png": "[encoded data removed]",
      "text/plain": [
       "<IPython.core.display.Image object>"
      ]
     },
     "execution_count": 2,
     "metadata": {},
     "output_type": "execute_result"
    }
   ],
   "source": [
    "#stats.plot(figsize=(15, 5))\n",
    "display.Image(filename='Trained_1000epoch/accuracy.png')"
   ]
  },
  {
   "cell_type": "code",
   "execution_count": 3,
   "id": "e6572e8b",
   "metadata": {},
   "outputs": [
    {
     "data": {
      "image/png": "[encoded data removed]",
      "text/plain": [
       "<IPython.core.display.Image object>"
      ]
     },
     "execution_count": 3,
     "metadata": {},
     "output_type": "execute_result"
    }
   ],
   "source": [
    "display.Image(filename='Trained_1000epoch/loss.png')"
   ]
  },
  {
   "cell_type": "markdown",
   "id": "d7785921-b165-425a-a3c8-600b1b822378",
   "metadata": {},
   "source": [
    "# Export the best model\n",
    "\n",
    "Load the best model during training and export it as hdf5 network. It is supported by `lava.lib.dl.netx` to automatically load the network as a lava process."
   ]
  },
  {
   "cell_type": "code",
   "execution_count": 11,
   "id": "fa9a9efa-da94-45b9-8598-c669e522a5c7",
   "metadata": {},
   "outputs": [],
   "source": [
    "net.load_state_dict(torch.load(trained_folder + '/network.pt', map_location=device))\n",
    "net.export_hdf5(trained_folder + '/network.net')"
   ]
  },
  {
   "cell_type": "markdown",
   "id": "a9a89584-2b71-49d9-b9e5-582e657676bc",
   "metadata": {},
   "source": [
    "# Visualize the network output\n",
    "\n",
    "Here, we will use `slayer.io.tensor_to_event` method to convert the torch output spike tensor into `slayer.io.Event` object and visualize a few input and output event pairs."
   ]
  },
  {
   "cell_type": "code",
   "execution_count": 12,
   "id": "f4217b31",
   "metadata": {},
   "outputs": [],
   "source": [
    "inp, lab = next(iter(test_loader))"
   ]
  },
  {
   "cell_type": "code",
   "execution_count": null,
   "id": "3149186c",
   "metadata": {},
   "outputs": [],
   "source": [
    "output = net(inp.to(device))"
   ]
  },
  {
   "cell_type": "code",
   "execution_count": 7,
   "id": "be7789a0",
   "metadata": {},
   "outputs": [
    {
     "name": "stdout",
     "output_type": "stream",
     "text": [
      "Class 0:\thand_clapping\n",
      "Class 1:\tright_hand_wave\n",
      "Class 2:\tleft_hand_wave\n",
      "Class 3:\tright_arm_clockwise\n",
      "Class 4:\tright_arm_counter_clockwise\n",
      "Class 5:\tleft_arm_clockwise\n",
      "Class 6:\tleft_arm_counter_clockwise\n",
      "Class 7:\tarm_roll\n",
      "Class 8:\tair_drums\n",
      "Class 9:\tair_guitar\n",
      "Class 10:\tother_gestures\n"
     ]
    }
   ],
   "source": [
    "for a in range(len(action_name)):\n",
    "    print('Class ' + str(a) + ':\\t' + action_name[a])"
   ]
  },
  {
   "cell_type": "code",
   "execution_count": null,
   "id": "2a37918a-c45d-40a5-b727-e2fe610b7c80",
   "metadata": {},
   "outputs": [],
   "source": [
    "for i in range(5):\n",
    "    inp_event = slayer.io.tensor_to_event(inp[i].cpu().data.numpy().reshape(2, 128, 128, -1))\n",
    "    out_event = slayer.io.tensor_to_event(output[i].cpu().data.numpy().reshape(1, 11, -1))\n",
    "    inp_anim = inp_event.anim(plt.figure(figsize=(5, 5)), frame_rate=24)\n",
    "    out_anim = out_event.anim(plt.figure(figsize=(10, 5)), frame_rate=24)\n",
    "    inp_anim.save(f'gifs/inp{i}.gif', animation.PillowWriter(fps=24), dpi=300)\n",
    "    out_anim.save(f'gifs/out{i}.gif', animation.PillowWriter(fps=24), dpi=300)\n"
   ]
  },
  {
   "cell_type": "code",
   "execution_count": 13,
   "id": "d933ed73-cdc1-43b8-8045-57cc9c499fba",
   "metadata": {},
   "outputs": [
    {
     "data": {
      "text/html": [
       "<table><tr><td align=\"center\"><b>Input</b></td><td><b>Output</b></td></tr><tr><td> <img src=\"gifs/inp0.gif\" alt=\"Drawing\" style=\"height: 250px;\"/> </td><td> <img src=\"gifs/out0.gif\" alt=\"Drawing\" style=\"height: 250px;\"/> </td></tr><tr><td> <img src=\"gifs/inp1.gif\" alt=\"Drawing\" style=\"height: 250px;\"/> </td><td> <img src=\"gifs/out1.gif\" alt=\"Drawing\" style=\"height: 250px;\"/> </td></tr><tr><td> <img src=\"gifs/inp2.gif\" alt=\"Drawing\" style=\"height: 250px;\"/> </td><td> <img src=\"gifs/out2.gif\" alt=\"Drawing\" style=\"height: 250px;\"/> </td></tr><tr><td> <img src=\"gifs/inp3.gif\" alt=\"Drawing\" style=\"height: 250px;\"/> </td><td> <img src=\"gifs/out3.gif\" alt=\"Drawing\" style=\"height: 250px;\"/> </td></tr><tr><td> <img src=\"gifs/inp4.gif\" alt=\"Drawing\" style=\"height: 250px;\"/> </td><td> <img src=\"gifs/out4.gif\" alt=\"Drawing\" style=\"height: 250px;\"/> </td></tr></tr></table>"
      ],
      "text/plain": [
       "<IPython.core.display.HTML object>"
      ]
     },
     "execution_count": 13,
     "metadata": {},
     "output_type": "execute_result"
    }
   ],
   "source": [
    "html = '<table>'\n",
    "html += '<tr><td align=\"center\"><b>Input</b></td><td><b>Output</b></td></tr>'\n",
    "for i in range(1):\n",
    "    html += '<tr>'\n",
    "    html += gif_td(f'gifs/inp{i}.gif')\n",
    "    html += gif_td(f'gifs/out{i}.gif')\n",
    "    html += '</tr>'\n",
    "html += '</tr></table>'\n",
    "display.HTML(html)"
   ]
  }
 ],
 "metadata": {
  "kernelspec": {
   "display_name": "Python 3 (ipykernel)",
   "language": "python",
   "name": "python3"
  },
  "language_info": {
   "codemirror_mode": {
    "name": "ipython",
    "version": 3
   },
   "file_extension": ".py",
   "mimetype": "text/x-python",
   "name": "python",
   "nbconvert_exporter": "python",
   "pygments_lexer": "ipython3",
   "version": "3.8.10"
  }
 },
 "nbformat": 4,
 "nbformat_minor": 5
}
