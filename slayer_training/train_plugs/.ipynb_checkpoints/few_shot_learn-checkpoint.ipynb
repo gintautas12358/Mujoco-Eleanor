{
 "cells": [
  {
   "cell_type": "markdown",
   "id": "8e62b37e-35dc-45b2-a025-31cf9ee971c5",
   "metadata": {},
   "source": [
    "# DVS Gesture Classification\n",
    "\n",
    "__DVSGesture__ is a dataset for benchmarking event-based gestzure recognition. The data samples were collected with a DVS128 camera. 29 persons performed the same 10 gestures and one individual gesture per person under varied light conditions.\n",
    "\n",
    "The task is to classify each event sequence to it's corresponding gesture.\n",
    "\n",
    "<table>\n",
    "<tr>\n",
    "    <td> <img src=\"gifs/input0.gif\" alt=\"Drawing\" style=\"height: 250px;\"/> </td>\n",
    "    <td> <img src=\"gifs/input1.gif\" alt=\"Drawing\" style=\"height: 250px;\"/> </td>\n",
    "    <td> <img src=\"gifs/input2.gif\" alt=\"Drawing\" style=\"height: 250px;\"/> </td>\n",
    "    <td> <img src=\"gifs/input3.gif\" alt=\"Drawing\" style=\"height: 250px;\"/> </td>\n",
    "    <td> <img src=\"gifs/input4.gif\" alt=\"Drawing\" style=\"height: 250px;\"/> </td>\n",
    "</tr>\n",
    "</table>\n",
    "\n",
    "DVS gesture dataset is freely available [here](https://research.ibm.com/interactive/dvsgesture/) (© CC-4.0).\n",
    "\n",
    "> A. Amir, B. Taba, D. Berg, T. Melano, J. McKinstry, C. Di Nolfo, T. Nayak, A. Andreopoulos, G. Garreau, M. Mendoza, J. Kusnitz, M. Debole, S. Esser, T. Delbruck, M. Flickner, and D. Modha, \"A Low Power, Fully Event-Based Gesture Recognition System,\" 2017 IEEE Conference on Computer Vision and Pattern Recognition (CVPR), Honolulu, HI, 2017. \n",
    "\n",
    "This script is intended for both training and testing with visualization."
   ]
  },
  {
   "cell_type": "code",
   "execution_count": 1,
   "id": "afc7d708-0431-4b60-91f0-9b30edbedac0",
   "metadata": {},
   "outputs": [],
   "source": [
    "import os, sys\n",
    "import glob\n",
    "import zipfile\n",
    "import h5py\n",
    "import numpy as np\n",
    "import matplotlib.pyplot as plt\n",
    "import torch\n",
    "import torch.nn as nn\n",
    "from torch.utils.data import Dataset, DataLoader\n",
    "\n",
    "# import slayer from lava-dl\n",
    "import lava.lib.dl.slayer as slayer\n",
    "\n",
    "import IPython.display as display\n",
    "from IPython.display import Image\n",
    "from matplotlib import animation"
   ]
  },
  {
   "cell_type": "code",
   "execution_count": 2,
   "id": "7fb50e0a",
   "metadata": {},
   "outputs": [
    {
     "data": {
      "text/plain": [
       "<torch._C.Generator at 0x7f8bd9b63430>"
      ]
     },
     "execution_count": 2,
     "metadata": {},
     "output_type": "execute_result"
    }
   ],
   "source": [
    "torch.manual_seed(0)"
   ]
  },
  {
   "cell_type": "markdown",
   "id": "670955ec-b45f-4ce5-a0aa-acce71a07370",
   "metadata": {},
   "source": [
    "# Create Dataset\n",
    "\n",
    "The dataset class follows standard torch dataset definition. They are defined in `dvs_gesture.py`. We will just import the dataset and augmentation routine here."
   ]
  },
  {
   "cell_type": "code",
   "execution_count": 3,
   "id": "36ceee15-929a-43e4-a63e-57772019c1c4",
   "metadata": {},
   "outputs": [],
   "source": [
    "class DVSGestureDataset(Dataset):\n",
    "    \n",
    "    def __init__(\n",
    "        self, path='/home/neumeier/pretrain_dvs_gesture/dvs_gesture_bs2',\n",
    "        train=True,\n",
    "        sampling_time=1, sample_length=1450,\n",
    "        transform=None, random_shift=True, data_format='bs2', ds_factor=1,\n",
    "    ):\n",
    "        super(DVSGestureDataset, self).__init__()\n",
    "        self.path = path\n",
    "        if train:\n",
    "            dataParams = np.loadtxt(self.path + '/train_few_shot.txt').astype('int')\n",
    "        else:\n",
    "            dataParams = np.loadtxt(self.path + '/test_few_shot.txt').astype('int')\n",
    "\n",
    "        self.samples = dataParams[:, 0]\n",
    "        self.labels = dataParams[:, 1]\n",
    "        self.sampling_time = sampling_time\n",
    "        self.num_time_bins = int(sample_length/sampling_time)\n",
    "        self.transform = transform\n",
    "        self.random_shift = random_shift\n",
    "        self.data_format = data_format\n",
    "        self.ds_factor = ds_factor\n",
    "\n",
    "    def __getitem__(self, i): \n",
    "        label = self.labels[i]\n",
    "        # dataset in .bs2-format\n",
    "        if self.data_format == 'bs2':\n",
    "            filename = self.path + '/' + str(self.samples[i]) + '.bs2'\n",
    "            event = slayer.io.read_2d_spikes(filename)\n",
    "        # dataset in .npy-format\n",
    "        elif self.data_format == 'npy':\n",
    "            filename = self.path + '/' + str(self.samples[i]) + '.npy'\n",
    "            event = slayer.io.read_np_spikes(filename, time_unit=1e-3)\n",
    "        else:\n",
    "            print('No correct data format!!! -> Only bs2 and npy valid')\n",
    "\n",
    "        if self.transform is not None:\n",
    "            event = self.transform(event)\n",
    "        \n",
    "        h_inp = 128 #int(128 / self.ds_factor)\n",
    "        w_inp = 128 #int(128 / self.ds_factor)\n",
    "\n",
    "        if self.random_shift:\n",
    "            spike = event.fill_tensor(torch.zeros(2, h_inp, w_inp, self.num_time_bins), sampling_time=self.sampling_time,\n",
    "                                      random_shift=True)\n",
    "        else:\n",
    "            spike = event.fill_tensor(torch.zeros(2, h_inp, w_inp, self.num_time_bins), sampling_time=self.sampling_time)\n",
    "\n",
    "        return spike, label\n",
    "\n",
    "    def __len__(self):\n",
    "        return len(self.samples)"
   ]
  },
  {
   "cell_type": "markdown",
   "id": "5ba82b01",
   "metadata": {},
   "source": [
    "The raw event files are first converted to binary (bs2) or numpy-files. Therefore `prepare_dvs_gesture.py` can be used."
   ]
  },
  {
   "cell_type": "code",
   "execution_count": 4,
   "id": "afb4b48f",
   "metadata": {},
   "outputs": [],
   "source": [
    "dataset_path = '/home/neumeier/Documents/masterthesis/datasets/DVS_Gesture/dvs_gesture_bs2'\n",
    "#dataset_path = '/home/neumeier/Documents/masterthesis/datasets/DVS_Gesture/dvs_gesture_npy'"
   ]
  },
  {
   "cell_type": "code",
   "execution_count": 5,
   "id": "48fa1acd",
   "metadata": {},
   "outputs": [],
   "source": [
    "action_name = [\n",
    "    'hand_clapping',\n",
    "    'right_hand_wave',\n",
    "    'left_hand_wave',\n",
    "    'right_arm_clockwise',\n",
    "    'right_arm_counter_clockwise',\n",
    "    'left_arm_clockwise', \n",
    "    'left_arm_counter_clockwise',\n",
    "    'arm_roll',\n",
    "    'air_drums',\n",
    "    'air_guitar',\n",
    "    'other_gestures',\n",
    "]"
   ]
  },
  {
   "cell_type": "markdown",
   "id": "7617ab25-f112-42c6-8bdd-28d0ded7ffb1",
   "metadata": {},
   "source": [
    "# Instantiate DataSet and DataLoader\n"
   ]
  },
  {
   "cell_type": "code",
   "execution_count": 6,
   "id": "47d40cfa-7c30-4192-910c-1b5a90e08c8e",
   "metadata": {
    "tags": []
   },
   "outputs": [],
   "source": [
    "training_set = DVSGestureDataset(path=dataset_path, train=True)\n",
    "testing_set  = DVSGestureDataset(path=dataset_path, train=False)\n",
    "\n",
    "train_loader = DataLoader(dataset=training_set, batch_size=11, shuffle=False)\n",
    "test_loader  = DataLoader(dataset=testing_set , batch_size=11, shuffle=False)"
   ]
  },
  {
   "cell_type": "markdown",
   "id": "1ea0e1be",
   "metadata": {},
   "source": [
    "# Create Network\n",
    "\n",
    "A slayer network definition follows standard PyTorch way using `torch.nn.Module`.\n",
    "\n",
    "The network can be described with a combination of individual `synapse`, `dendrite`, `neuron` and `axon` components. For rapid and easy development, slayer provides __block interface__ - `slayer.block` - which bundles all these individual components into a single unit. These blocks can be cascaded to build a network easily. The block interface provides additional utilities for normalization (weight and neuron), dropout, gradient monitoring and network export.\n",
    "\n",
    "In the example below, `slayer.block.cuba` is illustrated.\n",
    "\n",
    "The spiking neural network architecture consists of 7 layers (3 pooling, 2 convolutional and 2 dense) and is taken from [here](https://arxiv.org/pdf/2008.01151.pdf)\n",
    "\n",
    "> K. Stewart, G. Orchard, S. B. Shrestha and E. Neftci, \"Online Few-Shot Gesture Learning on a Neuromorphic Processor,\" IEEE Journal on Emerging and Selected Topics in Circuits and Systems, vol. 10, no. 4, pp. 512-521, Dec. 2020, doi: 10.1109/JETCAS.2020.3032058."
   ]
  },
  {
   "cell_type": "code",
   "execution_count": 7,
   "id": "70ec38d2",
   "metadata": {},
   "outputs": [],
   "source": [
    "from dvs_gesture import Network, Network_Loihi"
   ]
  },
  {
   "cell_type": "markdown",
   "id": "a55f2c74",
   "metadata": {},
   "source": [
    "# Instantiate Network\n",
    "\n",
    "Select training device by uncommenting your preferred option"
   ]
  },
  {
   "cell_type": "markdown",
   "id": "a04b2fb9",
   "metadata": {},
   "source": [
    "* CPU"
   ]
  },
  {
   "cell_type": "code",
   "execution_count": 8,
   "id": "4be74585",
   "metadata": {},
   "outputs": [],
   "source": [
    "device = torch.device('cpu')"
   ]
  },
  {
   "cell_type": "markdown",
   "id": "0fcfe093",
   "metadata": {},
   "source": [
    "* Single GPU"
   ]
  },
  {
   "cell_type": "code",
   "execution_count": 9,
   "id": "52a11d28",
   "metadata": {},
   "outputs": [],
   "source": [
    "#device = torch.device('cuda') "
   ]
  },
  {
   "cell_type": "code",
   "execution_count": 10,
   "id": "bf22f4d3",
   "metadata": {},
   "outputs": [],
   "source": [
    "net = Network().to(device)"
   ]
  },
  {
   "cell_type": "markdown",
   "id": "c1f9d488",
   "metadata": {},
   "source": [
    "# Training Folder"
   ]
  },
  {
   "cell_type": "code",
   "execution_count": 11,
   "id": "33d41d71",
   "metadata": {},
   "outputs": [],
   "source": [
    "trained_folder = 'Trained_500epoch'\n",
    "os.makedirs(trained_folder, exist_ok=True)"
   ]
  },
  {
   "cell_type": "markdown",
   "id": "d1fbde17",
   "metadata": {},
   "source": [
    "# Load pretrained Network\n"
   ]
  },
  {
   "cell_type": "markdown",
   "id": "50ec8a2e",
   "metadata": {},
   "source": [
    "Dummy Inference, necessary for correct load_state_dict."
   ]
  },
  {
   "cell_type": "code",
   "execution_count": 12,
   "id": "03495556",
   "metadata": {},
   "outputs": [],
   "source": [
    "inp, lab = next(iter(test_loader))\n",
    "output, count = net(inp[0].unsqueeze(0).to(device))\n",
    "\n",
    "# Optional for users with narrow GPU capacity.\n",
    "#del output\n",
    "#torch.cuda.empty_cache()"
   ]
  },
  {
   "cell_type": "markdown",
   "id": "bccbafb6",
   "metadata": {},
   "source": [
    "Reset last layer weights like in https://discuss.pytorch.org/t/how-to-assign-an-arbitrary-tensor-to-models-parameter/44082/6"
   ]
  },
  {
   "cell_type": "code",
   "execution_count": 13,
   "id": "2d20566e",
   "metadata": {},
   "outputs": [],
   "source": [
    "init_sd = net.state_dict()\n",
    "init_out_v = init_sd['blocks.7.synapse.weight_v'].clone()\n",
    "init_out_g = init_sd['blocks.7.synapse.weight_g'].clone()"
   ]
  },
  {
   "cell_type": "code",
   "execution_count": 14,
   "id": "d6c51006",
   "metadata": {},
   "outputs": [
    {
     "name": "stdout",
     "output_type": "stream",
     "text": [
      "tensor([[[[[ 0.0335]]],\n",
      "\n",
      "\n",
      "         [[[ 0.0036]]],\n",
      "\n",
      "\n",
      "         [[[-0.0382]]],\n",
      "\n",
      "\n",
      "         ...,\n",
      "\n",
      "\n",
      "         [[[-0.0208]]],\n",
      "\n",
      "\n",
      "         [[[ 0.0334]]],\n",
      "\n",
      "\n",
      "         [[[-0.0266]]]],\n",
      "\n",
      "\n",
      "\n",
      "        [[[[-0.0110]]],\n",
      "\n",
      "\n",
      "         [[[ 0.0086]]],\n",
      "\n",
      "\n",
      "         [[[-0.0270]]],\n",
      "\n",
      "\n",
      "         ...,\n",
      "\n",
      "\n",
      "         [[[-0.0266]]],\n",
      "\n",
      "\n",
      "         [[[ 0.0415]]],\n",
      "\n",
      "\n",
      "         [[[-0.0054]]]],\n",
      "\n",
      "\n",
      "\n",
      "        [[[[ 0.0432]]],\n",
      "\n",
      "\n",
      "         [[[ 0.0188]]],\n",
      "\n",
      "\n",
      "         [[[-0.0387]]],\n",
      "\n",
      "\n",
      "         ...,\n",
      "\n",
      "\n",
      "         [[[ 0.0250]]],\n",
      "\n",
      "\n",
      "         [[[-0.0114]]],\n",
      "\n",
      "\n",
      "         [[[ 0.0088]]]],\n",
      "\n",
      "\n",
      "\n",
      "        ...,\n",
      "\n",
      "\n",
      "\n",
      "        [[[[ 0.0415]]],\n",
      "\n",
      "\n",
      "         [[[ 0.0011]]],\n",
      "\n",
      "\n",
      "         [[[ 0.0104]]],\n",
      "\n",
      "\n",
      "         ...,\n",
      "\n",
      "\n",
      "         [[[ 0.0166]]],\n",
      "\n",
      "\n",
      "         [[[ 0.0350]]],\n",
      "\n",
      "\n",
      "         [[[-0.0289]]]],\n",
      "\n",
      "\n",
      "\n",
      "        [[[[ 0.0308]]],\n",
      "\n",
      "\n",
      "         [[[ 0.0017]]],\n",
      "\n",
      "\n",
      "         [[[-0.0097]]],\n",
      "\n",
      "\n",
      "         ...,\n",
      "\n",
      "\n",
      "         [[[ 0.0022]]],\n",
      "\n",
      "\n",
      "         [[[-0.0141]]],\n",
      "\n",
      "\n",
      "         [[[ 0.0068]]]],\n",
      "\n",
      "\n",
      "\n",
      "        [[[[-0.0428]]],\n",
      "\n",
      "\n",
      "         [[[ 0.0289]]],\n",
      "\n",
      "\n",
      "         [[[ 0.0217]]],\n",
      "\n",
      "\n",
      "         ...,\n",
      "\n",
      "\n",
      "         [[[-0.0105]]],\n",
      "\n",
      "\n",
      "         [[[ 0.0415]]],\n",
      "\n",
      "\n",
      "         [[[-0.0155]]]]])\n",
      "tensor([[[[[ 0.0335]]],\n",
      "\n",
      "\n",
      "         [[[ 0.0036]]],\n",
      "\n",
      "\n",
      "         [[[-0.0382]]],\n",
      "\n",
      "\n",
      "         ...,\n",
      "\n",
      "\n",
      "         [[[-0.0208]]],\n",
      "\n",
      "\n",
      "         [[[ 0.0334]]],\n",
      "\n",
      "\n",
      "         [[[-0.0266]]]],\n",
      "\n",
      "\n",
      "\n",
      "        [[[[-0.0110]]],\n",
      "\n",
      "\n",
      "         [[[ 0.0086]]],\n",
      "\n",
      "\n",
      "         [[[-0.0270]]],\n",
      "\n",
      "\n",
      "         ...,\n",
      "\n",
      "\n",
      "         [[[-0.0266]]],\n",
      "\n",
      "\n",
      "         [[[ 0.0415]]],\n",
      "\n",
      "\n",
      "         [[[-0.0054]]]],\n",
      "\n",
      "\n",
      "\n",
      "        [[[[ 0.0432]]],\n",
      "\n",
      "\n",
      "         [[[ 0.0188]]],\n",
      "\n",
      "\n",
      "         [[[-0.0387]]],\n",
      "\n",
      "\n",
      "         ...,\n",
      "\n",
      "\n",
      "         [[[ 0.0250]]],\n",
      "\n",
      "\n",
      "         [[[-0.0114]]],\n",
      "\n",
      "\n",
      "         [[[ 0.0088]]]],\n",
      "\n",
      "\n",
      "\n",
      "        ...,\n",
      "\n",
      "\n",
      "\n",
      "        [[[[ 0.0415]]],\n",
      "\n",
      "\n",
      "         [[[ 0.0011]]],\n",
      "\n",
      "\n",
      "         [[[ 0.0104]]],\n",
      "\n",
      "\n",
      "         ...,\n",
      "\n",
      "\n",
      "         [[[ 0.0166]]],\n",
      "\n",
      "\n",
      "         [[[ 0.0350]]],\n",
      "\n",
      "\n",
      "         [[[-0.0289]]]],\n",
      "\n",
      "\n",
      "\n",
      "        [[[[ 0.0308]]],\n",
      "\n",
      "\n",
      "         [[[ 0.0017]]],\n",
      "\n",
      "\n",
      "         [[[-0.0097]]],\n",
      "\n",
      "\n",
      "         ...,\n",
      "\n",
      "\n",
      "         [[[ 0.0022]]],\n",
      "\n",
      "\n",
      "         [[[-0.0141]]],\n",
      "\n",
      "\n",
      "         [[[ 0.0068]]]],\n",
      "\n",
      "\n",
      "\n",
      "        [[[[-0.0428]]],\n",
      "\n",
      "\n",
      "         [[[ 0.0289]]],\n",
      "\n",
      "\n",
      "         [[[ 0.0217]]],\n",
      "\n",
      "\n",
      "         ...,\n",
      "\n",
      "\n",
      "         [[[-0.0105]]],\n",
      "\n",
      "\n",
      "         [[[ 0.0415]]],\n",
      "\n",
      "\n",
      "         [[[-0.0155]]]]])\n"
     ]
    }
   ],
   "source": [
    "print(init_sd['blocks.7.synapse.weight_v'])\n",
    "print(init_out_v)"
   ]
  },
  {
   "cell_type": "markdown",
   "id": "d6068c53",
   "metadata": {},
   "source": [
    "Load weights from parameter file"
   ]
  },
  {
   "cell_type": "code",
   "execution_count": 15,
   "id": "bfbec262",
   "metadata": {},
   "outputs": [
    {
     "data": {
      "text/plain": [
       "<All keys matched successfully>"
      ]
     },
     "execution_count": 15,
     "metadata": {},
     "output_type": "execute_result"
    }
   ],
   "source": [
    "net.load_state_dict(torch.load(trained_folder + '/network.pt', map_location=device))"
   ]
  },
  {
   "cell_type": "markdown",
   "id": "6af6b776",
   "metadata": {},
   "source": [
    "Freeze layers 0-6."
   ]
  },
  {
   "cell_type": "code",
   "execution_count": 16,
   "id": "18401b65",
   "metadata": {},
   "outputs": [
    {
     "name": "stdout",
     "output_type": "stream",
     "text": [
      "Requires Gradient: False\n",
      "---\n",
      "Requires Gradient: False\n",
      "Requires Gradient: False\n",
      "---\n",
      "Requires Gradient: False\n",
      "---\n",
      "Requires Gradient: False\n",
      "Requires Gradient: False\n",
      "---\n",
      "Requires Gradient: False\n",
      "---\n",
      "---\n",
      "Requires Gradient: False\n",
      "Requires Gradient: False\n",
      "---\n",
      "Requires Gradient: True\n",
      "Requires Gradient: True\n",
      "---\n"
     ]
    }
   ],
   "source": [
    "for i, b in enumerate(net.blocks):\n",
    "    if i < 7:\n",
    "        if hasattr(b, 'synapse'):\n",
    "            #print(b.synapse.training)\n",
    "            for p in b.synapse.parameters():\n",
    "                p.requires_grad = False\n",
    "                #print(p.requires_grad)\n",
    "            #print(b.synapse.training)\n",
    "    if hasattr(b, 'synapse'):\n",
    "        for p in b.synapse.parameters():\n",
    "            print('Requires Gradient: ' + str(p.requires_grad))\n",
    "    print('---')            "
   ]
  },
  {
   "cell_type": "markdown",
   "id": "bcbfbf9e",
   "metadata": {},
   "source": [
    "Reset last layer."
   ]
  },
  {
   "cell_type": "code",
   "execution_count": 17,
   "id": "c8b288a1",
   "metadata": {},
   "outputs": [],
   "source": [
    "#print(net.blocks[7].synapse.weight_v)"
   ]
  },
  {
   "cell_type": "code",
   "execution_count": 18,
   "id": "3268668d",
   "metadata": {},
   "outputs": [],
   "source": [
    "pretrain_sd = net.state_dict()\n",
    "#print(pretrain_sd['blocks.7.synapse.weight_v'])\n",
    "with torch.no_grad():\n",
    "    pretrain_sd['blocks.7.synapse.weight_v'] = init_out_v\n",
    "    pretrain_sd['blocks.7.synapse.weight_g'] = init_out_g\n",
    "#print(pretrain_sd['blocks.7.synapse.weight_v'])"
   ]
  },
  {
   "cell_type": "code",
   "execution_count": 19,
   "id": "714df248",
   "metadata": {},
   "outputs": [
    {
     "data": {
      "text/plain": [
       "<All keys matched successfully>"
      ]
     },
     "execution_count": 19,
     "metadata": {},
     "output_type": "execute_result"
    }
   ],
   "source": [
    "net.load_state_dict(pretrain_sd)"
   ]
  },
  {
   "cell_type": "code",
   "execution_count": 20,
   "id": "09e62012",
   "metadata": {},
   "outputs": [],
   "source": [
    "#print(net.blocks[7].synapse.weight_v)"
   ]
  },
  {
   "cell_type": "markdown",
   "id": "e069270f",
   "metadata": {},
   "source": [
    "A few unsuccessful approaches to reset last layer weights"
   ]
  },
  {
   "cell_type": "code",
   "execution_count": 21,
   "id": "67e634cb",
   "metadata": {},
   "outputs": [],
   "source": [
    "#reset_weights = np.load('Trained_Init/7_weights.npy')\n",
    "#net.blocks[7].synapse.weight = torch.tensor(reset_weights).to(device)\n",
    "#net.blocks[7].synapse.reset_parameters()\n",
    "#nn.init.zeros_(net.blocks[7].synapse.weight.data)\n",
    "#net.blocks[7].synapse.weight.fill_(0.0)"
   ]
  },
  {
   "cell_type": "code",
   "execution_count": 22,
   "id": "82f4a1fd",
   "metadata": {},
   "outputs": [],
   "source": [
    "#def reset_output_layer(net):\n",
    "    #for i, b in enumerate(net.blocks):\n",
    "        #if i == 7 and hasattr(b.synapse, 'reset_parameters'):\n",
    "            #b.synapse.reset_parameters()\n",
    "            #print('yes')\n",
    "            \n",
    "#reset_output_layer(net)"
   ]
  },
  {
   "cell_type": "markdown",
   "id": "63d9eb71",
   "metadata": {},
   "source": [
    "# Optimizer\n",
    "\n",
    "Optimizer Adam or Nadam (not in pytorch 1.8.1, thus implementation as in slayer-pytorch) "
   ]
  },
  {
   "cell_type": "code",
   "execution_count": 23,
   "id": "8c9a71b1",
   "metadata": {},
   "outputs": [],
   "source": [
    "optimizer = torch.optim.Adam(net.parameters(), lr=0.003)\n",
    "#optimizer = Nadam(net.parameters(), lr=0.003) # from slayer pytorch"
   ]
  },
  {
   "cell_type": "markdown",
   "id": "d5a3fc61-6560-40fa-a222-5c051dc2ede7",
   "metadata": {},
   "source": [
    "# Error module\n",
    "\n",
    "Slayer provides prebuilt loss modules: `slayer.loss.{SpikeTime, SpikeRate, SpikeMax}`.\n",
    "* `SpikeTime`: precise spike time based loss when target spike train is known.\n",
    "* `SpikeRate`: spike rate based loss when desired rate of the output neuron is known.\n",
    "* `SpikeMax`: negative log likelihood losses for classification without any rate tuning.\n",
    "\n",
    "Since the target spike train is not known for this problem, we use `SpikeRate` loss and target high spiking rate for true class and low spiking rate for false class."
   ]
  },
  {
   "cell_type": "code",
   "execution_count": 24,
   "id": "3c4b9b92-925a-4da8-b146-923dc4b6ad5f",
   "metadata": {},
   "outputs": [],
   "source": [
    "error = slayer.loss.SpikeRate(true_rate=0.2, false_rate=0.03, reduction='sum').to(device)"
   ]
  },
  {
   "cell_type": "markdown",
   "id": "6cb1c953-78e7-47b7-9ce5-ab747ec23eb6",
   "metadata": {},
   "source": [
    "# Stats and Assistants\n",
    "\n",
    "Slayer provides `slayer.utils.LearningStats` as a simple learning statistics logger for training, validation and testing.\n",
    "\n",
    "In addtion, `slayer.utils.Assistant` module wraps common training validation and testing routine which help simplify the training routine."
   ]
  },
  {
   "cell_type": "code",
   "execution_count": 25,
   "id": "473884dd-d2fa-4e6a-b44d-6a1c303dc950",
   "metadata": {},
   "outputs": [],
   "source": [
    "stats = slayer.utils.LearningStats()\n",
    "#assistant = slayer.utils.Assistant(net, error, optimizer, stats, classifier=slayer.classifier.Rate.predict)\n",
    "classifier = slayer.classifier.Rate.predict"
   ]
  },
  {
   "cell_type": "markdown",
   "id": "08ed8e1b",
   "metadata": {},
   "source": [
    "# Check Weights\n",
    "\n"
   ]
  },
  {
   "cell_type": "code",
   "execution_count": 26,
   "id": "0021007a",
   "metadata": {},
   "outputs": [
    {
     "name": "stdout",
     "output_type": "stream",
     "text": [
      "Parameter containing:\n",
      "tensor([[[[[-0.0793]]],\n",
      "\n",
      "\n",
      "         [[[-0.6404]]],\n",
      "\n",
      "\n",
      "         [[[ 0.1726]]],\n",
      "\n",
      "\n",
      "         ...,\n",
      "\n",
      "\n",
      "         [[[ 0.0313]]],\n",
      "\n",
      "\n",
      "         [[[-0.1935]]],\n",
      "\n",
      "\n",
      "         [[[-0.0941]]]],\n",
      "\n",
      "\n",
      "\n",
      "        [[[[ 0.1777]]],\n",
      "\n",
      "\n",
      "         [[[ 0.1719]]],\n",
      "\n",
      "\n",
      "         [[[ 0.0321]]],\n",
      "\n",
      "\n",
      "         ...,\n",
      "\n",
      "\n",
      "         [[[ 0.1657]]],\n",
      "\n",
      "\n",
      "         [[[-0.0278]]],\n",
      "\n",
      "\n",
      "         [[[ 0.1662]]]],\n",
      "\n",
      "\n",
      "\n",
      "        [[[[ 0.3528]]],\n",
      "\n",
      "\n",
      "         [[[ 0.5292]]],\n",
      "\n",
      "\n",
      "         [[[ 0.6072]]],\n",
      "\n",
      "\n",
      "         ...,\n",
      "\n",
      "\n",
      "         [[[-0.4520]]],\n",
      "\n",
      "\n",
      "         [[[ 0.2193]]],\n",
      "\n",
      "\n",
      "         [[[-0.5286]]]],\n",
      "\n",
      "\n",
      "\n",
      "        ...,\n",
      "\n",
      "\n",
      "\n",
      "        [[[[ 0.0643]]],\n",
      "\n",
      "\n",
      "         [[[ 0.2420]]],\n",
      "\n",
      "\n",
      "         [[[-0.0821]]],\n",
      "\n",
      "\n",
      "         ...,\n",
      "\n",
      "\n",
      "         [[[-0.2535]]],\n",
      "\n",
      "\n",
      "         [[[-0.1290]]],\n",
      "\n",
      "\n",
      "         [[[ 0.0491]]]],\n",
      "\n",
      "\n",
      "\n",
      "        [[[[ 0.5511]]],\n",
      "\n",
      "\n",
      "         [[[ 0.3552]]],\n",
      "\n",
      "\n",
      "         [[[ 0.8798]]],\n",
      "\n",
      "\n",
      "         ...,\n",
      "\n",
      "\n",
      "         [[[ 0.5426]]],\n",
      "\n",
      "\n",
      "         [[[-0.2736]]],\n",
      "\n",
      "\n",
      "         [[[ 0.1628]]]],\n",
      "\n",
      "\n",
      "\n",
      "        [[[[ 0.0606]]],\n",
      "\n",
      "\n",
      "         [[[ 0.2073]]],\n",
      "\n",
      "\n",
      "         [[[-0.3249]]],\n",
      "\n",
      "\n",
      "         ...,\n",
      "\n",
      "\n",
      "         [[[ 0.0631]]],\n",
      "\n",
      "\n",
      "         [[[-0.0390]]],\n",
      "\n",
      "\n",
      "         [[[ 0.6028]]]]])\n"
     ]
    }
   ],
   "source": [
    "print(net.blocks[6].synapse.weight_v)"
   ]
  },
  {
   "cell_type": "code",
   "execution_count": 27,
   "id": "f7712219",
   "metadata": {},
   "outputs": [
    {
     "name": "stdout",
     "output_type": "stream",
     "text": [
      "Parameter containing:\n",
      "tensor([[[[[ 0.0335]]],\n",
      "\n",
      "\n",
      "         [[[ 0.0036]]],\n",
      "\n",
      "\n",
      "         [[[-0.0382]]],\n",
      "\n",
      "\n",
      "         ...,\n",
      "\n",
      "\n",
      "         [[[-0.0208]]],\n",
      "\n",
      "\n",
      "         [[[ 0.0334]]],\n",
      "\n",
      "\n",
      "         [[[-0.0266]]]],\n",
      "\n",
      "\n",
      "\n",
      "        [[[[-0.0110]]],\n",
      "\n",
      "\n",
      "         [[[ 0.0086]]],\n",
      "\n",
      "\n",
      "         [[[-0.0270]]],\n",
      "\n",
      "\n",
      "         ...,\n",
      "\n",
      "\n",
      "         [[[-0.0266]]],\n",
      "\n",
      "\n",
      "         [[[ 0.0415]]],\n",
      "\n",
      "\n",
      "         [[[-0.0054]]]],\n",
      "\n",
      "\n",
      "\n",
      "        [[[[ 0.0432]]],\n",
      "\n",
      "\n",
      "         [[[ 0.0188]]],\n",
      "\n",
      "\n",
      "         [[[-0.0387]]],\n",
      "\n",
      "\n",
      "         ...,\n",
      "\n",
      "\n",
      "         [[[ 0.0250]]],\n",
      "\n",
      "\n",
      "         [[[-0.0114]]],\n",
      "\n",
      "\n",
      "         [[[ 0.0088]]]],\n",
      "\n",
      "\n",
      "\n",
      "        ...,\n",
      "\n",
      "\n",
      "\n",
      "        [[[[ 0.0415]]],\n",
      "\n",
      "\n",
      "         [[[ 0.0011]]],\n",
      "\n",
      "\n",
      "         [[[ 0.0104]]],\n",
      "\n",
      "\n",
      "         ...,\n",
      "\n",
      "\n",
      "         [[[ 0.0166]]],\n",
      "\n",
      "\n",
      "         [[[ 0.0350]]],\n",
      "\n",
      "\n",
      "         [[[-0.0289]]]],\n",
      "\n",
      "\n",
      "\n",
      "        [[[[ 0.0308]]],\n",
      "\n",
      "\n",
      "         [[[ 0.0017]]],\n",
      "\n",
      "\n",
      "         [[[-0.0097]]],\n",
      "\n",
      "\n",
      "         ...,\n",
      "\n",
      "\n",
      "         [[[ 0.0022]]],\n",
      "\n",
      "\n",
      "         [[[-0.0141]]],\n",
      "\n",
      "\n",
      "         [[[ 0.0068]]]],\n",
      "\n",
      "\n",
      "\n",
      "        [[[[-0.0428]]],\n",
      "\n",
      "\n",
      "         [[[ 0.0289]]],\n",
      "\n",
      "\n",
      "         [[[ 0.0217]]],\n",
      "\n",
      "\n",
      "         ...,\n",
      "\n",
      "\n",
      "         [[[-0.0105]]],\n",
      "\n",
      "\n",
      "         [[[ 0.0415]]],\n",
      "\n",
      "\n",
      "         [[[-0.0155]]]]], requires_grad=True)\n"
     ]
    }
   ],
   "source": [
    "print(net.blocks[7].synapse.weight_v)"
   ]
  },
  {
   "cell_type": "markdown",
   "id": "a93c62e8",
   "metadata": {},
   "source": [
    "# Test Loop for comparison\n",
    "\n"
   ]
  },
  {
   "cell_type": "code",
   "execution_count": 28,
   "id": "d2e22768",
   "metadata": {},
   "outputs": [
    {
     "name": "stdout",
     "output_type": "stream",
     "text": [
      "Test before Learning\n",
      "Test Batch 0\n",
      "Test Batch 1\n",
      "Test Batch 2\n",
      "Test Batch 3\n",
      "Test Batch 4\n",
      "Test Batch 5\n",
      "Test Batch 6\n",
      "Test Batch 7\n",
      "Test Batch 8\n",
      "Test Batch 9\n",
      "Train  | Test  loss =     0.00000                        accuracy = 0.13636\n"
     ]
    }
   ],
   "source": [
    "print('Test before Learning')\n",
    "with torch.no_grad():\n",
    "    net.eval()          \n",
    "    for j, (inp, label) in enumerate(test_loader): # testing loop\n",
    "        print('Test Batch ' + str(j))\n",
    "        for i in range(label.size(dim=0)): \n",
    "            inp_i = inp[i].unsqueeze(0).to(device)\n",
    "            lab_i = label[i].unsqueeze(0).to(device)\n",
    "            # forward pass of the network.\n",
    "            output, _ = net.forward(inp_i)\n",
    "            # update stats\n",
    "            stats.testing.num_samples += 1\n",
    "            stats.testing.correct_samples += torch.sum(classifier(output) == lab_i).cpu().data.item()\n",
    "            # free GPU memory\n",
    "            #del output\n",
    "            #torch.cuda.empty_cache()\n",
    "                \n",
    "print(stats)  \n",
    "stats.testing.reset()"
   ]
  },
  {
   "cell_type": "markdown",
   "id": "05eb7069-d384-4368-8235-f5b782c5eeae",
   "metadata": {},
   "source": [
    "# Few-Shot Learning\n",
    "\n"
   ]
  },
  {
   "cell_type": "code",
   "execution_count": 28,
   "id": "dbcbc25a-41bb-49f0-bdb7-26be901626c9",
   "metadata": {},
   "outputs": [
    {
     "name": "stdout",
     "output_type": "stream",
     "text": [
      "Few-Shot Learning with 5 per class\n",
      "Learning Shot 1\n",
      "Result: tensor([4])\t Label: tensor([0])\n",
      "Result: tensor([10])\t Label: tensor([1])\n",
      "Result: tensor([9])\t Label: tensor([2])\n",
      "Result: tensor([4])\t Label: tensor([3])\n",
      "Result: tensor([8])\t Label: tensor([4])\n",
      "Result: tensor([0])\t Label: tensor([5])\n",
      "Result: tensor([6])\t Label: tensor([6])\n",
      "Result: tensor([8])\t Label: tensor([7])\n",
      "Result: tensor([0])\t Label: tensor([8])\n",
      "Result: tensor([0])\t Label: tensor([9])\n",
      "Result: tensor([0])\t Label: tensor([10])\n",
      "Learning Shot 2\n",
      "Result: tensor([0])\t Label: tensor([0])\n",
      "Result: tensor([6])\t Label: tensor([1])\n",
      "Result: tensor([6])\t Label: tensor([2])\n",
      "Result: tensor([4])\t Label: tensor([3])\n",
      "Result: tensor([1])\t Label: tensor([4])\n",
      "Result: tensor([10])\t Label: tensor([5])\n",
      "Result: tensor([2])\t Label: tensor([6])\n",
      "Result: tensor([7])\t Label: tensor([7])\n",
      "Result: tensor([0])\t Label: tensor([8])\n",
      "Result: tensor([0])\t Label: tensor([9])\n",
      "Result: tensor([3])\t Label: tensor([10])\n",
      "Learning Shot 3\n",
      "Result: tensor([7])\t Label: tensor([0])\n",
      "Result: tensor([3])\t Label: tensor([1])\n",
      "Result: tensor([3])\t Label: tensor([2])\n",
      "Result: tensor([3])\t Label: tensor([3])\n",
      "Result: tensor([4])\t Label: tensor([4])\n",
      "Result: tensor([2])\t Label: tensor([5])\n",
      "Result: tensor([6])\t Label: tensor([6])\n",
      "Result: tensor([7])\t Label: tensor([7])\n",
      "Result: tensor([8])\t Label: tensor([8])\n",
      "Result: tensor([8])\t Label: tensor([9])\n",
      "Result: tensor([10])\t Label: tensor([10])\n",
      "Learning Shot 4\n",
      "Result: tensor([0])\t Label: tensor([0])\n",
      "Result: tensor([1])\t Label: tensor([1])\n",
      "Result: tensor([6])\t Label: tensor([2])\n",
      "Result: tensor([3])\t Label: tensor([3])\n",
      "Result: tensor([4])\t Label: tensor([4])\n",
      "Result: tensor([5])\t Label: tensor([5])\n",
      "Result: tensor([6])\t Label: tensor([6])\n",
      "Result: tensor([7])\t Label: tensor([7])\n",
      "Result: tensor([8])\t Label: tensor([8])\n",
      "Result: tensor([7])\t Label: tensor([9])\n",
      "Result: tensor([10])\t Label: tensor([10])\n",
      "Learning Shot 5\n",
      "Result: tensor([0])\t Label: tensor([0])\n",
      "Result: tensor([1])\t Label: tensor([1])\n",
      "Result: tensor([2])\t Label: tensor([2])\n",
      "Result: tensor([3])\t Label: tensor([3])\n",
      "Result: tensor([1])\t Label: tensor([4])\n",
      "Result: tensor([5])\t Label: tensor([5])\n",
      "Result: tensor([6])\t Label: tensor([6])\n",
      "Result: tensor([7])\t Label: tensor([7])\n",
      "Result: tensor([8])\t Label: tensor([8])\n",
      "Result: tensor([9])\t Label: tensor([9])\n",
      "Result: tensor([3])\t Label: tensor([10])\n"
     ]
    }
   ],
   "source": [
    "no_shots = 5 #1\n",
    "\n",
    "print('Few-Shot Learning with ' + str(no_shots) + ' per class')\n",
    "for shot in range(no_shots):\n",
    "    inp, label = next(iter(train_loader))\n",
    "    print('Learning Shot ' + str(shot+1))\n",
    "    for i in range(lab.size(dim=0)): # training loop\n",
    "        inp_i = inp[i].unsqueeze(0).to(device)\n",
    "        lab_i = label[i].unsqueeze(0).to(device)\n",
    "        # forward pass of the network.\n",
    "        output, _ = net.forward(inp_i)\n",
    "        result = classifier(output)\n",
    "        print('Result: ' + str(result) + '\\t Label: ' + str(lab_i))\n",
    "        # update stats\n",
    "        stats.training.num_samples += 1\n",
    "        stats.training.correct_samples += torch.sum(result == lab_i).cpu().data.item()\n",
    "        # calculate loss\n",
    "        loss = error(output, lab_i)\n",
    "        # reset gradients\n",
    "        optimizer.zero_grad()\n",
    "        # backward pass\n",
    "        loss.backward()\n",
    "        # update weights\n",
    "        optimizer.step()\n",
    "        # free GPU memory\n",
    "        #del output\n",
    "        #torch.cuda.empty_cache()\n"
   ]
  },
  {
   "cell_type": "code",
   "execution_count": 29,
   "id": "ade90a51",
   "metadata": {},
   "outputs": [
    {
     "name": "stdout",
     "output_type": "stream",
     "text": [
      "Train loss =     0.00000                        accuracy = 0.49091\n"
     ]
    }
   ],
   "source": [
    "print(stats) "
   ]
  },
  {
   "cell_type": "markdown",
   "id": "e845b103",
   "metadata": {},
   "source": [
    "# Validate Few-Shot Learning\n",
    "\n"
   ]
  },
  {
   "cell_type": "code",
   "execution_count": 30,
   "id": "fe27048f",
   "metadata": {},
   "outputs": [],
   "source": [
    "stats.validation.reset()\n",
    "train_loader = DataLoader(dataset=training_set, batch_size=11, shuffle=False)"
   ]
  },
  {
   "cell_type": "code",
   "execution_count": 31,
   "id": "ae371093",
   "metadata": {},
   "outputs": [
    {
     "name": "stdout",
     "output_type": "stream",
     "text": [
      "Validation Shot 1\n",
      "Result: tensor([0])\t Label: tensor([0])\n",
      "Result: tensor([1])\t Label: tensor([1])\n",
      "Result: tensor([2])\t Label: tensor([2])\n",
      "Result: tensor([3])\t Label: tensor([3])\n",
      "Result: tensor([4])\t Label: tensor([4])\n",
      "Result: tensor([5])\t Label: tensor([5])\n",
      "Result: tensor([6])\t Label: tensor([6])\n",
      "Result: tensor([7])\t Label: tensor([7])\n",
      "Result: tensor([8])\t Label: tensor([8])\n",
      "Result: tensor([9])\t Label: tensor([9])\n",
      "Result: tensor([10])\t Label: tensor([10])\n",
      "Validation Shot 2\n",
      "Result: tensor([0])\t Label: tensor([0])\n",
      "Result: tensor([1])\t Label: tensor([1])\n",
      "Result: tensor([2])\t Label: tensor([2])\n",
      "Result: tensor([3])\t Label: tensor([3])\n",
      "Result: tensor([4])\t Label: tensor([4])\n",
      "Result: tensor([5])\t Label: tensor([5])\n",
      "Result: tensor([6])\t Label: tensor([6])\n",
      "Result: tensor([7])\t Label: tensor([7])\n",
      "Result: tensor([8])\t Label: tensor([8])\n",
      "Result: tensor([9])\t Label: tensor([9])\n",
      "Result: tensor([10])\t Label: tensor([10])\n",
      "Validation Shot 3\n",
      "Result: tensor([0])\t Label: tensor([0])\n",
      "Result: tensor([1])\t Label: tensor([1])\n",
      "Result: tensor([2])\t Label: tensor([2])\n",
      "Result: tensor([3])\t Label: tensor([3])\n",
      "Result: tensor([4])\t Label: tensor([4])\n",
      "Result: tensor([5])\t Label: tensor([5])\n",
      "Result: tensor([6])\t Label: tensor([6])\n",
      "Result: tensor([7])\t Label: tensor([7])\n",
      "Result: tensor([8])\t Label: tensor([8])\n",
      "Result: tensor([9])\t Label: tensor([9])\n",
      "Result: tensor([10])\t Label: tensor([10])\n",
      "Validation Shot 4\n",
      "Result: tensor([0])\t Label: tensor([0])\n",
      "Result: tensor([1])\t Label: tensor([1])\n",
      "Result: tensor([2])\t Label: tensor([2])\n",
      "Result: tensor([3])\t Label: tensor([3])\n",
      "Result: tensor([4])\t Label: tensor([4])\n",
      "Result: tensor([5])\t Label: tensor([5])\n",
      "Result: tensor([6])\t Label: tensor([6])\n",
      "Result: tensor([7])\t Label: tensor([7])\n",
      "Result: tensor([8])\t Label: tensor([8])\n",
      "Result: tensor([9])\t Label: tensor([9])\n",
      "Result: tensor([10])\t Label: tensor([10])\n",
      "Validation Shot 5\n",
      "Result: tensor([0])\t Label: tensor([0])\n",
      "Result: tensor([1])\t Label: tensor([1])\n",
      "Result: tensor([2])\t Label: tensor([2])\n",
      "Result: tensor([3])\t Label: tensor([3])\n",
      "Result: tensor([4])\t Label: tensor([4])\n",
      "Result: tensor([5])\t Label: tensor([5])\n",
      "Result: tensor([6])\t Label: tensor([6])\n",
      "Result: tensor([7])\t Label: tensor([7])\n",
      "Result: tensor([8])\t Label: tensor([8])\n",
      "Result: tensor([9])\t Label: tensor([9])\n",
      "Result: tensor([10])\t Label: tensor([10])\n"
     ]
    }
   ],
   "source": [
    "for shot in range(no_shots):\n",
    "    inp, label = next(iter(train_loader))\n",
    "    print('Validation Shot ' + str(shot+1))\n",
    "    with torch.no_grad():\n",
    "        net.eval()    \n",
    "        for i in range(label.size(dim=0)): # train validation loop\n",
    "            inp_i = inp[i].unsqueeze(0).to(device)\n",
    "            lab_i = label[i].unsqueeze(0).to(device)\n",
    "            # forward pass of the network.\n",
    "            output, _ = net.forward(inp_i)\n",
    "            result = classifier(output)\n",
    "            print('Result: ' + str(result) + '\\t Label: ' + str(lab_i))\n",
    "            # update stats\n",
    "            stats.validation.num_samples += 1\n",
    "            stats.validation.correct_samples += torch.sum(result == lab_i).cpu().data.item()\n",
    "            #print(stats.training.num_samples)\n",
    "            #print(stats.training.correct_samples)\n",
    "            # free GPU memory\n",
    "            #del output\n",
    "            #torch.cuda.empty_cache()"
   ]
  },
  {
   "cell_type": "code",
   "execution_count": 32,
   "id": "3444bac3",
   "metadata": {},
   "outputs": [
    {
     "name": "stdout",
     "output_type": "stream",
     "text": [
      "Train loss =     0.00000                        accuracy = 0.49091 | Valid loss =     0.00000                        accuracy = 1.00000\n"
     ]
    }
   ],
   "source": [
    "print(stats) "
   ]
  },
  {
   "cell_type": "markdown",
   "id": "edae986e",
   "metadata": {},
   "source": [
    "# Test Few-Shot Learning\n",
    "\n"
   ]
  },
  {
   "cell_type": "code",
   "execution_count": 33,
   "id": "ed113b54",
   "metadata": {},
   "outputs": [],
   "source": [
    "stats.testing.reset()"
   ]
  },
  {
   "cell_type": "code",
   "execution_count": 34,
   "id": "7e0378db",
   "metadata": {},
   "outputs": [
    {
     "name": "stdout",
     "output_type": "stream",
     "text": [
      "Test Few-Shot Learning with 5 of shots per class\n",
      "Test Batch 0\n",
      "Test Batch 1\n",
      "Test Batch 2\n",
      "Test Batch 3\n",
      "Test Batch 4\n",
      "Test Batch 5\n",
      "Test Batch 6\n",
      "Test Batch 7\n",
      "Test Batch 8\n",
      "Test Batch 9\n",
      "Train loss =     0.00000                        accuracy = 0.49091 | Valid loss =     0.00000                        accuracy = 1.00000 | Test  loss =     0.00000                        accuracy = 0.60000\n"
     ]
    }
   ],
   "source": [
    "print('Test Few-Shot Learning with ' + str(no_shots) + ' of shots per class')\n",
    "\n",
    "with torch.no_grad():\n",
    "    net.eval()          \n",
    "    for j, (inp, label) in enumerate(test_loader): # testing loop\n",
    "        print('Test Batch ' + str(j))\n",
    "        for i in range(label.size(dim=0)): \n",
    "            inp_i = inp[i].unsqueeze(0).to(device)\n",
    "            lab_i = label[i].unsqueeze(0).to(device)\n",
    "            # forward pass of the network.\n",
    "            output, _ = net.forward(inp_i)\n",
    "            # update stats\n",
    "            stats.testing.num_samples += 1\n",
    "            stats.testing.correct_samples += torch.sum(classifier(output) == lab_i).cpu().data.item()\n",
    "            # free GPU memory\n",
    "            #del output\n",
    "            #torch.cuda.empty_cache()\n",
    "                \n",
    "print(stats)"
   ]
  },
  {
   "cell_type": "code",
   "execution_count": 37,
   "id": "74fadca3",
   "metadata": {},
   "outputs": [],
   "source": [
    "stats.testing.reset()"
   ]
  },
  {
   "cell_type": "code",
   "execution_count": null,
   "id": "b8cf72ec",
   "metadata": {},
   "outputs": [],
   "source": [
    "stats.training.reset()"
   ]
  },
  {
   "cell_type": "code",
   "execution_count": 38,
   "id": "3f6ba72f",
   "metadata": {},
   "outputs": [
    {
     "name": "stdout",
     "output_type": "stream",
     "text": [
      "Train loss =     0.00000                        accuracy = 0.74545\n"
     ]
    }
   ],
   "source": [
    "print(stats)"
   ]
  },
  {
   "cell_type": "markdown",
   "id": "854daacd-5ea4-46fd-befd-b0918b26bda3",
   "metadata": {},
   "source": [
    "# Plot the learning curves\n",
    "\n",
    "Plotting the learning curves is as easy as calling `stats.plot()`."
   ]
  },
  {
   "cell_type": "code",
   "execution_count": 7,
   "id": "be59928f-4da2-4055-8802-71216003bf0c",
   "metadata": {},
   "outputs": [],
   "source": [
    "shots = [1, 2, 3, 4, 5]\n",
    "train_acc = [9, 14, 27, 41, 49]\n",
    "val_acc = [36, 55, 82, 100, 100]\n",
    "test_acc = [23, 22, 45, 62, 60]\n",
    "base = [13, 13, 13, 13, 13]"
   ]
  },
  {
   "cell_type": "code",
   "execution_count": 25,
   "id": "f98830f5",
   "metadata": {},
   "outputs": [
    {
     "data": {
      "image/png": "[encoded data removed]",
      "text/plain": [
       "<Figure size 720x720 with 1 Axes>"
      ]
     },
     "metadata": {
      "needs_background": "light"
     },
     "output_type": "display_data"
    }
   ],
   "source": [
    "#fig, ax = plt.subplots()\n",
    "fig, ax = plt.subplots(figsize=(10, 10))\n",
    "ax.plot(shots, train_acc, color = 'red', label = 'train', marker='o')\n",
    "ax.plot(shots, val_acc, color = 'orange', label = 'valid', marker='o')\n",
    "ax.plot(shots, test_acc, color = 'green', label = 'test', marker='o')\n",
    "ax.plot(shots, base, color = 'blue', label = 'test_base', linestyle='--')\n",
    "ax.legend(loc = 'upper left')\n",
    "plt.xlabel('No. of shots')\n",
    "plt.ylabel('Accuracy')\n",
    "plt.show()"
   ]
  },
  {
   "cell_type": "markdown",
   "id": "a9a89584-2b71-49d9-b9e5-582e657676bc",
   "metadata": {},
   "source": [
    "# Visualize the network output\n",
    "\n",
    "Here, we will use `slayer.io.tensor_to_event` method to convert the torch output spike tensor into `slayer.io.Event` object and visualize a few input and output event pairs."
   ]
  },
  {
   "cell_type": "code",
   "execution_count": 12,
   "id": "f4217b31",
   "metadata": {},
   "outputs": [],
   "source": [
    "inp, lab = next(iter(test_loader))"
   ]
  },
  {
   "cell_type": "code",
   "execution_count": null,
   "id": "3149186c",
   "metadata": {},
   "outputs": [],
   "source": [
    "output = net(inp.to(device))"
   ]
  },
  {
   "cell_type": "code",
   "execution_count": null,
   "id": "2a37918a-c45d-40a5-b727-e2fe610b7c80",
   "metadata": {},
   "outputs": [],
   "source": [
    "for i in range(5):\n",
    "    inp_event = slayer.io.tensor_to_event(inp[i].cpu().data.numpy().reshape(2, 128, 128, -1))\n",
    "    out_event = slayer.io.tensor_to_event(output[i].cpu().data.numpy().reshape(1, 11, -1))\n",
    "    inp_anim = inp_event.anim(plt.figure(figsize=(5, 5)), frame_rate=24)\n",
    "    out_anim = out_event.anim(plt.figure(figsize=(10, 5)), frame_rate=24)\n",
    "    inp_anim.save(f'gifs/inp_fewshot_{i}.gif', animation.PillowWriter(fps=24), dpi=300)\n",
    "    out_anim.save(f'gifs/out_fewshot_{i}.gif', animation.PillowWriter(fps=24), dpi=300)\n"
   ]
  },
  {
   "cell_type": "code",
   "execution_count": 13,
   "id": "d933ed73-cdc1-43b8-8045-57cc9c499fba",
   "metadata": {},
   "outputs": [
    {
     "data": {
      "text/html": [
       "<table><tr><td align=\"center\"><b>Input</b></td><td><b>Output</b></td></tr><tr><td> <img src=\"gifs/inp0.gif\" alt=\"Drawing\" style=\"height: 250px;\"/> </td><td> <img src=\"gifs/out0.gif\" alt=\"Drawing\" style=\"height: 250px;\"/> </td></tr><tr><td> <img src=\"gifs/inp1.gif\" alt=\"Drawing\" style=\"height: 250px;\"/> </td><td> <img src=\"gifs/out1.gif\" alt=\"Drawing\" style=\"height: 250px;\"/> </td></tr><tr><td> <img src=\"gifs/inp2.gif\" alt=\"Drawing\" style=\"height: 250px;\"/> </td><td> <img src=\"gifs/out2.gif\" alt=\"Drawing\" style=\"height: 250px;\"/> </td></tr><tr><td> <img src=\"gifs/inp3.gif\" alt=\"Drawing\" style=\"height: 250px;\"/> </td><td> <img src=\"gifs/out3.gif\" alt=\"Drawing\" style=\"height: 250px;\"/> </td></tr><tr><td> <img src=\"gifs/inp4.gif\" alt=\"Drawing\" style=\"height: 250px;\"/> </td><td> <img src=\"gifs/out4.gif\" alt=\"Drawing\" style=\"height: 250px;\"/> </td></tr></tr></table>"
      ],
      "text/plain": [
       "<IPython.core.display.HTML object>"
      ]
     },
     "execution_count": 13,
     "metadata": {},
     "output_type": "execute_result"
    }
   ],
   "source": [
    "html = '<table>'\n",
    "html += '<tr><td align=\"center\"><b>Input</b></td><td><b>Output</b></td></tr>'\n",
    "for i in range(1):\n",
    "    html += '<tr>'\n",
    "    html += gif_td(f'gifs/inp{i}.gif')\n",
    "    html += gif_td(f'gifs/out{i}.gif')\n",
    "    html += '</tr>'\n",
    "html += '</tr></table>'\n",
    "display.HTML(html)"
   ]
  }
 ],
 "metadata": {
  "kernelspec": {
   "display_name": "Python 3 (ipykernel)",
   "language": "python",
   "name": "python3"
  },
  "language_info": {
   "codemirror_mode": {
    "name": "ipython",
    "version": 3
   },
   "file_extension": ".py",
   "mimetype": "text/x-python",
   "name": "python",
   "nbconvert_exporter": "python",
   "pygments_lexer": "ipython3",
   "version": "3.8.10"
  }
 },
 "nbformat": 4,
 "nbformat_minor": 5
}
